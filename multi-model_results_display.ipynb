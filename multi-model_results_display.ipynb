{
 "cells": [
  {
   "cell_type": "code",
   "execution_count": 1,
   "id": "b41d123c",
   "metadata": {},
   "outputs": [],
   "source": [
    "import os\n",
    "import threading\n",
    "import time\n",
    "\n",
    "import ipywidgets\n",
    "from IPython.display import display\n",
    "\n",
    "from utils.multi_model_inference import DecodeMultiInferResult\n",
    "from utils.utils import bgr8_to_jpeg, img_path_to_msg"
   ]
  },
  {
   "cell_type": "code",
   "execution_count": 2,
   "id": "f98af97b",
   "metadata": {},
   "outputs": [
    {
     "name": "stdout",
     "output_type": "stream",
     "text": [
      "4 models in ./0420school_A/val_multi-model_inference.json\n",
      "successful load 298 images\n"
     ]
    }
   ],
   "source": [
    "width = 224\n",
    "height = 224\n",
    "\n",
    "result_decode = DecodeMultiInferResult(\"./0420school_A/val_multi-model_inference.json\")\n",
    "circled_img, json_dict = result_decode.get_img_value()\n",
    "img_name, project, category, dataset = img_path_to_msg(json_dict[\"img_path\"])\n",
    "model_output = list(json_dict[\"model_output\"].values())"
   ]
  },
  {
   "cell_type": "code",
   "execution_count": 4,
   "id": "b161a4a7",
   "metadata": {},
   "outputs": [],
   "source": [
    "image_widget = ipywidgets.Image(value=bgr8_to_jpeg(circled_img), format=\"jpg\", width=width, height=height)\n",
    "    \n",
    "Source_CH1_widget = ipywidgets.BoundedFloatText(description='CH1', value=0, min=-1, max=1, disabled=True, style={'description_width': 'initial'})\n",
    "Source_CH2_widget = ipywidgets.BoundedFloatText(description='CH2', value=0, min=-1, max=1, disabled=True, style={'description_width': 'initial'})\n",
    "\n",
    "count_widget = ipywidgets.IntText(description='count', disabled=True, value=len(result_decode), style={'description_width': 'initial'})\n",
    "\n",
    "\n",
    "# 定义播放按钮\n",
    "play_button = ipywidgets.ToggleButton(description='play', value=False, disabled=False)\n",
    "change_bool = play_button.value\n",
    "def play():\n",
    "    global change_bool\n",
    "    while True:\n",
    "        if change_bool:\n",
    "\n",
    "            circled_img, json_dict = result_decode.get_img_next(step_widget.value)\n",
    "            image_widget.value = bgr8_to_jpeg(circled_img)\n",
    "            Source_CH1_widget.value = json_dict[\"source_value\"][\"1\"]\n",
    "            Source_CH2_widget.value = json_dict[\"source_value\"][\"2\"]\n",
    "            index_widget.value = result_decode.get_index()\n",
    "            filename_list_widget.value = os.path.basename(json_dict[\"img_path\"])\n",
    "            model_output = list(json_dict[\"model_output\"].values())\n",
    "            model_1_CH1_widget.value = model_output[0][\"detected_value\"][\"1\"]\n",
    "            model_1_CH2_widget.value = model_output[0][\"detected_value\"][\"2\"]\n",
    "            model_2_CH1_widget.value = model_output[1][\"detected_value\"][\"1\"]\n",
    "            model_2_CH2_widget.value = model_output[1][\"detected_value\"][\"2\"]\n",
    "            model_3_CH1_widget.value = model_output[2][\"detected_value\"][\"1\"]\n",
    "            model_3_CH2_widget.value = model_output[2][\"detected_value\"][\"2\"]\n",
    "            model_4_CH1_widget.value = model_output[3][\"detected_value\"][\"1\"]\n",
    "            model_4_CH2_widget.value = model_output[3][\"detected_value\"][\"2\"]\n",
    "\n",
    "        time.sleep(0.15)\n",
    "execute_thread = threading.Thread(target=play)\n",
    "execute_thread.start()\n",
    "\n",
    "def playClick(change):\n",
    "    global change_bool\n",
    "    change_bool = change.new\n",
    "    if play_button.description == \"play\":\n",
    "        play_button.description = \"stop\"\n",
    "    else:\n",
    "        play_button.description = \"play\"\n",
    "play_button.observe(playClick, names='value')\n",
    "\n",
    "forward_button = ipywidgets.Button(description='next')\n",
    "def forward(c):\n",
    "    circled_img, json_dict = result_decode.get_img_next(step_widget.value)\n",
    "    set_image_widget(circled_img, json_dict)\n",
    "    index_widget.value = result_decode.get_index()\n",
    "    filename_list_widget.value = os.path.basename(json_dict[\"img_path\"])\n",
    "forward_button.on_click(forward)\n",
    "\n",
    "back_button = ipywidgets.Button(description='back')\n",
    "def back(c):\n",
    "    circled_img, json_dict = result_decode.get_img_next(-step_widget.value)\n",
    "    set_image_widget(circled_img, json_dict)\n",
    "    index_widget.value = result_decode.get_index()\n",
    "    filename_list_widget.value = os.path.basename(json_dict[\"img_path\"])\n",
    "back_button.on_click(back)\n",
    "\n",
    "step_widget = ipywidgets.BoundedIntText(value=1, min=0, max=count_widget.value, step=1)\n",
    "\n",
    "filename_list_widget = ipywidgets.Dropdown(options=result_decode.get_img_name_list(), value=result_decode.get_img_name_list()[0] , description='img path', style={'description_width': 'initial'})\n",
    "def filename_list_update(change):\n",
    "    new_filename = change.new\n",
    "    result_decode.index = result_decode.get_img_name_list().index(new_filename)\n",
    "    circled_img, json_dict = result_decode.get_img_value()\n",
    "    set_image_widget(circled_img, json_dict)\n",
    "    index_widget.value = result_decode.get_index()\n",
    "filename_list_widget.observe(filename_list_update, names='value')\n",
    "\n",
    "index_widget = ipywidgets.IntText(description='index', value=0,style={'description_width': 'initial'})\n",
    "def index_change(change):\n",
    "    new_index = change.new\n",
    "    if new_index > len(result_decode):\n",
    "        new_index -= len(result_decode)\n",
    "    result_decode.index = new_index\n",
    "    circled_img, json_dict = result_decode.get_img_value()\n",
    "    set_image_widget(circled_img, json_dict)\n",
    "    filename_list_widget.value = os.path.basename(json_dict[\"img_path\"])\n",
    "index_widget.observe(index_change, names='value')\n",
    "\n",
    "def set_image_widget(circled_img, json_dict):\n",
    "    image_widget.value = bgr8_to_jpeg(circled_img)\n",
    "    Source_CH1_widget.value = json_dict[\"source_value\"][\"1\"]\n",
    "    Source_CH2_widget.value = json_dict[\"source_value\"][\"2\"]\n",
    "    model_output = list(json_dict[\"model_output\"].values())\n",
    "    model_1_CH1_widget.value = model_output[0][\"detected_value\"][\"1\"]\n",
    "    model_1_CH2_widget.value = model_output[0][\"detected_value\"][\"2\"]\n",
    "    model_2_CH1_widget.value = model_output[1][\"detected_value\"][\"1\"]\n",
    "    model_2_CH2_widget.value = model_output[1][\"detected_value\"][\"2\"]\n",
    "    model_3_CH1_widget.value = model_output[2][\"detected_value\"][\"1\"]\n",
    "    model_3_CH2_widget.value = model_output[2][\"detected_value\"][\"2\"]\n",
    "    model_4_CH1_widget.value = model_output[3][\"detected_value\"][\"1\"]\n",
    "    model_4_CH2_widget.value = model_output[3][\"detected_value\"][\"2\"]"
   ]
  },
  {
   "cell_type": "code",
   "execution_count": 5,
   "id": "3ed9f636",
   "metadata": {},
   "outputs": [
    {
     "data": {
      "application/vnd.jupyter.widget-view+json": {
       "model_id": "e546937957bd4712ab7991fec2b67beb",
       "version_major": 2,
       "version_minor": 0
      },
      "text/plain": [
       "VBox(children=(HBox(children=(ColorPicker(value='#28F7F7', concise=True, layout=Layout(width='30px'), style=De…"
      ]
     },
     "metadata": {},
     "output_type": "display_data"
    }
   ],
   "source": [
    "RGB, HEX = result_decode.get_model_color(model_name=model_output[0][\"model_path\"])\n",
    "model_1_color_choice = ipywidgets.ColorPicker(concise=True, value=HEX, style={'description_width': 'initial'})\n",
    "model_1_model_name_widget = ipywidgets.Text(value=model_output[0][\"model_path\"], disabled=True, style={'description_width': 'initial'})\n",
    "model_1_CH1_widget = ipywidgets.BoundedFloatText(description='CH1', value=0, min=-1, max=1, disabled=True, style={'description_width': 'initial'})\n",
    "model_1_CH2_widget = ipywidgets.BoundedFloatText(description='CH2', value=0, min=-1, max=1, disabled=True, style={'description_width': 'initial'})\n",
    "\n",
    "model_1_color_choice.layout.width = '30px'\n",
    "model_1_model_name_widget.layout.width = \"270px\"\n",
    "model_1_CH1_widget.layout.width = \"150px\"\n",
    "model_1_CH2_widget.layout = model_1_CH1_widget.layout\n",
    "\n",
    "model_1_box = ipywidgets.VBox([ipywidgets.HBox([model_1_color_choice, model_1_model_name_widget]),\n",
    "                                      ipywidgets.HBox([model_1_CH1_widget,model_1_CH2_widget])])\n",
    "display(model_1_box)"
   ]
  },
  {
   "cell_type": "code",
   "execution_count": 6,
   "id": "342e8694",
   "metadata": {},
   "outputs": [
    {
     "data": {
      "application/vnd.jupyter.widget-view+json": {
       "model_id": "a56f077c5d5547e39d75612f4e3fad92",
       "version_major": 2,
       "version_minor": 0
      },
      "text/plain": [
       "VBox(children=(HBox(children=(ColorPicker(value='#FC1B1B', concise=True, layout=Layout(width='30px'), style=De…"
      ]
     },
     "metadata": {},
     "output_type": "display_data"
    }
   ],
   "source": [
    "RGB, HEX = result_decode.get_model_color(model_name=model_output[1][\"model_path\"])\n",
    "model_2_color_choice = ipywidgets.ColorPicker(concise=True, value=HEX, style={'description_width': 'initial'})\n",
    "model_2_model_name_widget = ipywidgets.Text(value=model_output[1][\"model_path\"], disabled=True, style={'description_width': 'initial'})\n",
    "model_2_CH1_widget = ipywidgets.BoundedFloatText(description='CH1', value=0, min=-1, max=1, disabled=True, style={'description_width': 'initial'})\n",
    "model_2_CH2_widget = ipywidgets.BoundedFloatText(description='CH2', value=0, min=-1, max=1, disabled=True, style={'description_width': 'initial'})\n",
    "\n",
    "model_2_color_choice.layout.width = '30px'\n",
    "model_2_model_name_widget.layout.width = \"270px\"\n",
    "model_2_CH1_widget.layout.width = \"150px\"\n",
    "model_2_CH2_widget.layout = model_2_CH1_widget.layout\n",
    "\n",
    "model_2_box = ipywidgets.VBox([ipywidgets.HBox([model_2_color_choice, model_2_model_name_widget]),\n",
    "                                      ipywidgets.HBox([model_2_CH1_widget,model_2_CH2_widget])])\n",
    "display(model_2_box)"
   ]
  },
  {
   "cell_type": "code",
   "execution_count": 7,
   "id": "fd89f4db",
   "metadata": {},
   "outputs": [
    {
     "data": {
      "application/vnd.jupyter.widget-view+json": {
       "model_id": "8db6b3452948455f99031fe918f6e600",
       "version_major": 2,
       "version_minor": 0
      },
      "text/plain": [
       "VBox(children=(HBox(children=(ColorPicker(value='#8308FE', concise=True, layout=Layout(width='30px'), style=De…"
      ]
     },
     "metadata": {},
     "output_type": "display_data"
    }
   ],
   "source": [
    "RGB, HEX = result_decode.get_model_color(model_name=model_output[2][\"model_path\"])\n",
    "model_3_color_choice = ipywidgets.ColorPicker(concise=True, value=HEX, style={'description_width': 'initial'})\n",
    "model_3_model_name_widget = ipywidgets.Text(value=model_output[2][\"model_path\"], disabled=True, style={'description_width': 'initial'})\n",
    "model_3_CH1_widget = ipywidgets.BoundedFloatText(description='CH1', value=0, min=-1, max=1, disabled=True, style={'description_width': 'initial'})\n",
    "model_3_CH2_widget = ipywidgets.BoundedFloatText(description='CH2', value=0, min=-1, max=1, disabled=True, style={'description_width': 'initial'})\n",
    "\n",
    "model_3_color_choice.layout.width = '30px'\n",
    "model_3_model_name_widget.layout.width = \"270px\"\n",
    "model_3_CH1_widget.layout.width = \"150px\"\n",
    "model_3_CH2_widget.layout = model_3_CH1_widget.layout\n",
    "\n",
    "model_3_box = ipywidgets.VBox([ipywidgets.HBox([model_3_color_choice, model_3_model_name_widget]),\n",
    "                                      ipywidgets.HBox([model_3_CH1_widget,model_3_CH2_widget])])\n",
    "display(model_3_box)"
   ]
  },
  {
   "cell_type": "code",
   "execution_count": 8,
   "id": "32389c3b",
   "metadata": {},
   "outputs": [
    {
     "data": {
      "application/vnd.jupyter.widget-view+json": {
       "model_id": "7d190fb493f64ecdb95958fc611ecd6f",
       "version_major": 2,
       "version_minor": 0
      },
      "text/plain": [
       "VBox(children=(HBox(children=(ColorPicker(value='#96F835', concise=True, layout=Layout(width='30px'), style=De…"
      ]
     },
     "metadata": {},
     "output_type": "display_data"
    }
   ],
   "source": [
    "RGB, HEX = result_decode.get_model_color(model_name=model_output[3][\"model_path\"])\n",
    "model_4_color_choice = ipywidgets.ColorPicker(concise=True, value=HEX, style={'description_width': 'initial'})\n",
    "model_4_model_name_widget = ipywidgets.Text(value=model_output[3][\"model_path\"], disabled=True, style={'description_width': 'initial'})\n",
    "model_4_CH1_widget = ipywidgets.BoundedFloatText(description='CH1', value=0, min=-1, max=1, disabled=True, style={'description_width': 'initial'})\n",
    "model_4_CH2_widget = ipywidgets.BoundedFloatText(description='CH2', value=0, min=-1, max=1, disabled=True, style={'description_width': 'initial'})\n",
    "\n",
    "model_4_color_choice.layout.width = '30px'\n",
    "model_4_model_name_widget.layout.width = \"270px\"\n",
    "model_4_CH1_widget.layout.width = \"150px\"\n",
    "model_4_CH2_widget.layout = model_4_CH1_widget.layout\n",
    "\n",
    "model_4_box = ipywidgets.VBox([ipywidgets.HBox([model_4_color_choice, model_4_model_name_widget]),\n",
    "                                      ipywidgets.HBox([model_4_CH1_widget,model_4_CH2_widget])])\n",
    "display(model_4_box)"
   ]
  },
  {
   "cell_type": "code",
   "execution_count": 9,
   "id": "808c7722",
   "metadata": {},
   "outputs": [],
   "source": [
    "play_button.layout.width = '{}px'.format((width/4) - 3)\n",
    "forward_button.layout = play_button.layout\n",
    "step_widget.layout = play_button.layout\n",
    "back_button.layout = play_button.layout\n",
    "\n",
    "filename_list_widget.layout.width = \"{}px\".format(width)\n",
    "index_widget.layout = filename_list_widget.layout\n",
    "count_widget.layout = filename_list_widget.layout\n",
    "\n",
    "Source_CH1_widget.layout.width = '{}px'.format((width/2) - 3)\n",
    "Source_CH2_widget.layout = Source_CH1_widget.layout"
   ]
  },
  {
   "cell_type": "code",
   "execution_count": 10,
   "id": "93d59c06",
   "metadata": {},
   "outputs": [
    {
     "data": {
      "application/vnd.jupyter.widget-view+json": {
       "model_id": "06ba8fb798d84b17b26b2c763b9259cf",
       "version_major": 2,
       "version_minor": 0
      },
      "text/plain": [
       "HBox(children=(VBox(children=(Image(value=b'\\xff\\xd8\\xff\\xe0\\x00\\x10JFIF\\x00\\x01\\x01\\x00\\x00\\x01\\x00\\x01\\x00\\x…"
      ]
     },
     "metadata": {},
     "output_type": "display_data"
    }
   ],
   "source": [
    "RGB, HEX = result_decode.get_model_color(model_name=\"source_value\")\n",
    "source_color_choice = ipywidgets.ColorPicker(concise=True, value=HEX, description='source color', \n",
    "                                             style={'description_width': 'initial'})\n",
    "source_color_choice.layout.width = '30px'\n",
    "img_widget = ipywidgets.VBox([\n",
    "    image_widget,\n",
    "    ipywidgets.HBox([play_button, back_button, step_widget, forward_button]),\n",
    "    ipywidgets.HBox([Source_CH1_widget, Source_CH2_widget]),\n",
    "    filename_list_widget,\n",
    "    index_widget,\n",
    "    count_widget,])\n",
    "\n",
    "# noinspection PyTypeChecker\n",
    "display(ipywidgets.HBox([img_widget, ipywidgets.VBox([source_color_choice, model_1_box, model_2_box, model_3_box, model_4_box])]))"
   ]
  },
  {
   "cell_type": "code",
   "execution_count": null,
   "id": "2ca31b8d",
   "metadata": {},
   "outputs": [],
   "source": []
  }
 ],
 "metadata": {
  "kernelspec": {
   "display_name": "Python 3",
   "language": "python",
   "name": "python3"
  },
  "language_info": {
   "codemirror_mode": {
    "name": "ipython",
    "version": 3
   },
   "file_extension": ".py",
   "mimetype": "text/x-python",
   "name": "python",
   "nbconvert_exporter": "python",
   "pygments_lexer": "ipython3",
   "version": "3.6.9"
  }
 },
 "nbformat": 4,
 "nbformat_minor": 5
}
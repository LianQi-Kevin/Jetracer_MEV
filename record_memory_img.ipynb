{
 "cells": [
  {
   "cell_type": "code",
   "execution_count": 1,
   "id": "630261e1",
   "metadata": {},
   "outputs": [],
   "source": [
    "import copy\n",
    "import time\n",
    "\n",
    "import cv2\n",
    "import torchvision.transforms as transforms\n",
    "\n",
    "from utils.ImageList import ImageList\n",
    "from utils.SerialObject import SerialObject\n",
    "from utils.utils import channel12ToImgSize, getChannelValue, bgr8_to_jpeg"
   ]
  },
  {
   "cell_type": "code",
   "execution_count": 2,
   "id": "3783841b",
   "metadata": {},
   "outputs": [],
   "source": [
    "from jetcam.csi_camera import CSICamera\n",
    "# from jetcam.usb_camera import USBCamera\n",
    "\n",
    "camera = CSICamera(width=224, height=224)\n",
    "# camera = USBCamera(width=224, height=224)\n",
    "camera.running = True"
   ]
  },
  {
   "cell_type": "code",
   "execution_count": 3,
   "id": "7724f00d",
   "metadata": {},
   "outputs": [],
   "source": [
    "project = \"0502\"\n",
    "dataset = \"test\"\n",
    "category = \"local\"\n",
    "\n",
    "TRANSFORMS = transforms.Compose([\n",
    "        transforms.ColorJitter(0.2, 0.2, 0.2, 0.2),  # 改变图片的对比度 亮度 饱和度 色调\n",
    "        transforms.Resize((224, 224)),  # 调整图片尺寸到[224, 224]\n",
    "        transforms.ToTensor(),  # 转换到Tensor\n",
    "        transforms.Normalize([0.485, 0.456, 0.406], [0.229, 0.224, 0.225])\n",
    "        # 用平均值和标准差对浮点张量图像进行标准化 list内三个值对图片的三个通道使用不同值\n",
    "    ])"
   ]
  },
  {
   "cell_type": "code",
   "execution_count": 4,
   "id": "bfb3ad4f",
   "metadata": {},
   "outputs": [
    {
     "name": "stdout",
     "output_type": "stream",
     "text": [
      "0502_test/local already creat\n",
      "0502_test/local_labels already creat\n",
      "0 files in the project folder\n",
      "参数设置: 串口=/dev/ttyACM0, 波特率=9600\n",
      "当前接收机值: ['0', '0', '0']\n"
     ]
    }
   ],
   "source": [
    "global image_list, myserial\n",
    "image_list = ImageList(project, category, dataset, transform=TRANSFORMS, random_hflip=True)\n",
    "myserial = SerialObject(portNo=\"/dev/ttyACM0\", baudRate=9600)\n",
    "time.sleep(2)\n",
    "print(\"当前接收机值: {}\".format(getChannelValue(myserial, arduino_standardization=False, standardization=False)))"
   ]
  },
  {
   "cell_type": "code",
   "execution_count": 5,
   "id": "c8108877",
   "metadata": {},
   "outputs": [],
   "source": [
    "import ipywidgets\n",
    "from IPython.display import display\n",
    "import threading\n",
    "import time"
   ]
  },
  {
   "cell_type": "code",
   "execution_count": 6,
   "id": "76b540b5",
   "metadata": {},
   "outputs": [],
   "source": [
    "def draw_ruler_on_image(image,line_tinkness=1):\n",
    "    changed_img = copy.copy(image)\n",
    "    image_height = height\n",
    "    image_weight = width\n",
    "    helf_height = int(image_height/2)\n",
    "    helf_weight = int(image_weight/2)\n",
    "    # cv2.circle(image, (image_height / 2, image_weight / 2), 5, (255, 255, 255), 2)\n",
    "    cv2.line(changed_img, (0, 0), (image_height, image_weight), (0, 0, 255), line_tinkness)\n",
    "    cv2.line(changed_img, (0, image_height), (image_weight, 0), (0, 0, 255), line_tinkness)\n",
    "    cv2.line(changed_img, (0, helf_weight), (image_weight, helf_weight), (0, 0, 255), line_tinkness)\n",
    "    cv2.line(changed_img, (helf_height, 0), (helf_height, image_height), (0, 0, 255), line_tinkness)\n",
    "    return changed_img"
   ]
  },
  {
   "cell_type": "code",
   "execution_count": 7,
   "id": "11f2b374",
   "metadata": {},
   "outputs": [
    {
     "data": {
      "application/vnd.jupyter.widget-view+json": {
       "model_id": "cc5e00ecbe43462a8f34ed748fc56ebc",
       "version_major": 2,
       "version_minor": 0
      },
      "text/plain": [
       "VBox(children=(HBox(children=(Image(value=b'', height='224', width='224'), Image(value=b'', height='224', widt…"
      ]
     },
     "metadata": {},
     "output_type": "display_data"
    }
   ],
   "source": [
    "\n",
    "# unobserve all callbacks from camera in case we are running this cell for second time\n",
    "camera.unobserve_all()\n",
    "\n",
    "# create image preview\n",
    "camera_widget = ipywidgets.Image(width=camera.width, height=camera.height)\n",
    "snapshot_widget = ipywidgets.Image(width=camera.width, height=camera.height)\n",
    "recor_button = ipywidgets.Button(description='记录')\n",
    "show_button = ipywidgets.Button(description='显示视频(影响性能)')\n",
    "\n",
    "# 当show_button被按下时 连接camera的value和camera_widget的value\n",
    "def showCamera(c):        \n",
    "    ipywidgets.dlink((camera, 'value'), (camera_widget, 'value'), transform=bgr8_to_jpeg)\n",
    "show_button.on_click(showCamera)\n",
    "\n",
    "# ipywidgets.dlink((camera, 'value'), (camera_widget, 'value'), transform=bgr8_to_jpeg)\n",
    "\n",
    "\n",
    "# create widgets\n",
    "count_widget = ipywidgets.IntText(description='count', disabled=True, value=image_list.get_count())\n",
    "global state\n",
    "state = 1\n",
    "# manually update counts at initialization\n",
    "mem_img_list = []\n",
    "def record(camera, count_widget, snapshot_widget, time_wait=0.2):\n",
    "    global mem_img_list\n",
    "    while True :\n",
    "        if state != 1:\n",
    "            start_time = time.time()\n",
    "            \n",
    "            channel_value = getChannelValue(myserial, \n",
    "                                            arduino_standardization=False, \n",
    "                                            standardization=True,\n",
    "                                            max_value=2000, \n",
    "                                            min_value=1000, \n",
    "                                            CH1_bias=-8,\n",
    "                                            CH2_bias=-16,\n",
    "                                            CH3_bias=-12)\n",
    "            image_value = camera.value\n",
    "            mem_img_list.append([image_value, channel_value])\n",
    "            count_widget.value = image_list.get_count() + len(mem_img_list)\n",
    "            img_x, img_y = channel12ToImgSize(channel_value[0], channel_value[1])\n",
    "            circle_img = image_list.draw_circle(image_value, int(img_x), int(img_y))\n",
    "            snapshot_widget.value = bgr8_to_jpeg(circle_img)\n",
    "            \n",
    "            if len(mem_img_list) == 100:\n",
    "                for single_data in mem_img_list:\n",
    "                    image_list.save_image(single_data[0], single_data[1])\n",
    "                mem_img_list = []\n",
    "            \n",
    "            finish_time = time.time()\n",
    "            time_cost = finish_time - start_time\n",
    "            if time_cost < time_wait:\n",
    "                time.sleep(time_wait - float(time_cost))\n",
    "        else:\n",
    "            if mem_img_list != []:\n",
    "                for single_data in mem_img_list:\n",
    "                    image_list.save_image(single_data[0], single_data[1])\n",
    "                mem_img_list = []\n",
    "            time.sleep(0.5)\n",
    "            \n",
    "\n",
    "\n",
    "execute_thread = threading.Thread(target=record, args=(camera, count_widget, snapshot_widget))\n",
    "\n",
    "def recordclick(c):\n",
    "    global state\n",
    "    print(state)\n",
    "    print(recor_button.description)\n",
    "    if recor_button.description == '记录':\n",
    "        recor_button.description = '停止'\n",
    "        state = 0\n",
    "    else:\n",
    "        recor_button.description = '记录'\n",
    "        state = 1\n",
    "recor_button.on_click(recordclick)\n",
    "\n",
    "data_collection_widget = ipywidgets.VBox([\n",
    "    ipywidgets.HBox([camera_widget, snapshot_widget]),\n",
    "    show_button,\n",
    "    recor_button,\n",
    "    count_widget\n",
    "])\n",
    "\n",
    "display(data_collection_widget)\n",
    "\n",
    "execute_thread.start()"
   ]
  },
  {
   "cell_type": "code",
   "execution_count": 8,
   "id": "ad8a4107",
   "metadata": {},
   "outputs": [],
   "source": [
    "# !pwd"
   ]
  },
  {
   "cell_type": "code",
   "execution_count": 9,
   "id": "43988781",
   "metadata": {},
   "outputs": [],
   "source": [
    "# ! zip -r 0422school_A.zip 0422school_A"
   ]
  }
 ],
 "metadata": {
  "kernelspec": {
   "display_name": "Python 3",
   "language": "python",
   "name": "python3"
  },
  "language_info": {
   "codemirror_mode": {
    "name": "ipython",
    "version": 3
   },
   "file_extension": ".py",
   "mimetype": "text/x-python",
   "name": "python",
   "nbconvert_exporter": "python",
   "pygments_lexer": "ipython3",
   "version": "3.6.9"
  }
 },
 "nbformat": 4,
 "nbformat_minor": 5
}

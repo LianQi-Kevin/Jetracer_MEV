{
 "cells": [
  {
   "cell_type": "code",
   "execution_count": 1,
   "id": "a0ee7642",
   "metadata": {},
   "outputs": [
    {
     "data": {
      "text/plain": [
       "<All keys matched successfully>"
      ]
     },
     "execution_count": 1,
     "metadata": {},
     "output_type": "execute_result"
    }
   ],
   "source": [
    "import torch\n",
    "from torch2trt import TRTModule\n",
    "\n",
    "basic_name = \"0422_Ep50_race_train\"\n",
    "\n",
    "model_trt = TRTModule()\n",
    "model_trt.load_state_dict(torch.load('{}_TRT.pth'.format(basic_name)))"
   ]
  },
  {
   "cell_type": "code",
   "execution_count": 2,
   "id": "5bc1b377",
   "metadata": {},
   "outputs": [],
   "source": [
    "from utils.preprocess_utils import preprocess\n",
    "import numpy as np"
   ]
  },
  {
   "cell_type": "code",
   "execution_count": 3,
   "id": "30d38615",
   "metadata": {},
   "outputs": [],
   "source": [
    "project = \"0422school\"\n",
    "dataset = \"A\"\n",
    "category = \"race_train\"\n",
    "\n",
    "width = 224\n",
    "height = 224"
   ]
  },
  {
   "cell_type": "code",
   "execution_count": 4,
   "id": "b49302b1",
   "metadata": {},
   "outputs": [],
   "source": [
    "import ipywidgets\n",
    "from IPython.display import display\n",
    "import threading\n",
    "import time\n",
    "from utils.utils import channel12ToImgSize, creatProjectFolder, readInTagsFolderAndSort, getChannelValue, saveImage, bgr8_to_jpeg, imgXYToChannel12\n",
    "from utils.ImageList import ImageList"
   ]
  },
  {
   "cell_type": "code",
   "execution_count": 5,
   "id": "a8d152e0",
   "metadata": {},
   "outputs": [
    {
     "name": "stdout",
     "output_type": "stream",
     "text": [
      "There is 5153 file in the project folder\n"
     ]
    }
   ],
   "source": [
    "global image_list\n",
    "image_list = ImageList(project, category, dataset, random_hflip=False)"
   ]
  },
  {
   "cell_type": "code",
   "execution_count": 6,
   "id": "e1b5b250",
   "metadata": {},
   "outputs": [],
   "source": [
    "train_view_widget = ipywidgets.Image(width=width, height=height)\n",
    "count_widget = ipywidgets.IntText(description='count', disabled=True, value=len(image_list), style={'description_width': 'initial'})\n",
    "trained_CH1_widget = ipywidgets.BoundedFloatText(description='CH1', value=0, min=-1, max=1, disabled=True, style={'description_width': 'initial'})\n",
    "trained_CH2_widget = ipywidgets.BoundedFloatText(description='CH2', value=0, min=-1, max=1, disabled=True, style={'description_width': 'initial'})\n",
    "trained_X_widget = ipywidgets.BoundedIntText(description='X', value=0, min=0, max=height, step=1, disabled=True, style={'description_width': 'initial'})\n",
    "trained_Y_widget = ipywidgets.BoundedIntText(description='Y', value=0, min=0, max=height, step=1, disabled=True, style={'description_width': 'initial'})\n",
    "progress_widget = ipywidgets.FloatProgress(min=0.0, max=1.0, description='progress', disabled=True, style={'description_width': 'initial'})"
   ]
  },
  {
   "cell_type": "code",
   "execution_count": 7,
   "id": "7ec5a3fa",
   "metadata": {},
   "outputs": [],
   "source": [
    "# 定义播放按钮\n",
    "play_button = ipywidgets.ToggleButton(description='play', value=False, disabled=False)\n",
    "change_bool = play_button.value\n",
    "def play():\n",
    "    global image_list, change_bool\n",
    "    while True:\n",
    "        # if change_bool is True\n",
    "        if change_bool:\n",
    "            image_dict = image_list.get_next()\n",
    "            set_trained_widget(image_dict)\n",
    "        time.sleep(0.1)\n",
    "execute_thread = threading.Thread(target=play)\n",
    "execute_thread.start()\n",
    "\n",
    "def playclick(change):\n",
    "    global change_bool\n",
    "    change_bool = change.new\n",
    "    if play_button.description == \"play\":\n",
    "        play_button.description = \"stop\"\n",
    "    else:\n",
    "        play_button.description = \"play\"\n",
    "play_button.observe(playclick, names='value')\n",
    "\n",
    "forward_button = ipywidgets.Button(description='next')\n",
    "def forward(c):\n",
    "    image_dict = image_list.get_next(step_widget.value)\n",
    "    set_trained_widget(image_dict)\n",
    "forward_button.on_click(forward)\n",
    "\n",
    "back_button = ipywidgets.Button(description='back')\n",
    "def back(c):\n",
    "    image_dict = image_list.get_next(-step_widget.value)\n",
    "    set_trained_widget(image_dict)\n",
    "back_button.on_click(back)\n",
    "\n",
    "step_widget = ipywidgets.BoundedIntText(value=1, min=0, max=count_widget.value, step=1)\n",
    "\n",
    "def set_trained_widget(image_dict):\n",
    "    global evaluated\n",
    "    if evaluated is True:\n",
    "        CH1_value, CH2_value = image_dict[\"trained_channel\"][\"CH1\"], image_dict[\"trained_channel\"][\"CH2\"]\n",
    "        img_x, img_y = image_dict[\"trained_XY\"][\"X\"], image_dict[\"trained_XY\"][\"Y\"]\n",
    "        image = image_list.draw_circle(image_value=image_dict[\"img_value\"], img_x=img_x, img_y=img_y)\n",
    "        train_view_widget.value = bgr8_to_jpeg(image)\n",
    "        trained_X_widget.value = img_x\n",
    "        trained_Y_widget.value = img_y\n",
    "        trained_CH1_widget.value = CH1_value\n",
    "        trained_CH2_widget.value = CH2_value"
   ]
  },
  {
   "cell_type": "code",
   "execution_count": 8,
   "id": "c9b2315c",
   "metadata": {},
   "outputs": [],
   "source": [
    "eval_button = ipywidgets.Button(description='evaluate', disabled=True)\n",
    "evaluated = False\n",
    "def evla_img_list(change):\n",
    "    global image_list, model_trt, evaluated\n",
    "    progress_widget.value = 0\n",
    "    for single_dict in image_list.iter_img_list():\n",
    "        image = single_dict[\"img_value\"]\n",
    "        preprocessed = preprocess(image).half()\n",
    "        local_output = model_trt(preprocessed).detach().cpu().numpy().flatten()\n",
    "        CH1 = local_output[0]\n",
    "        CH2 = local_output[1]\n",
    "#         print(local_output)\n",
    "        img_x, img_y = channel12ToImgSize(CH1, CH2, width, height)\n",
    "        image_list.json_dict[single_dict[\"count\"]].update({\n",
    "            \"trained_channel\":{\"CH1\":CH1, \"CH2\":CH2},\n",
    "            \"trained_XY\":{\"X\":img_x, \"Y\":img_y}})\n",
    "        progress_widget.value += 1 / len(image_list)\n",
    "    evaluated = True\n",
    "    progress_widget.value = 0\n",
    "eval_button.on_click(evla_img_list)\n",
    "\n",
    "\n"
   ]
  },
  {
   "cell_type": "code",
   "execution_count": 9,
   "id": "c73da191",
   "metadata": {},
   "outputs": [
    {
     "data": {
      "application/vnd.jupyter.widget-view+json": {
       "model_id": "47d176d699fe43ae9b3788c5fd941811",
       "version_major": 2,
       "version_minor": 0
      },
      "text/plain": [
       "VBox(children=(Image(value=b'', height='224', width='224'), HBox(children=(ToggleButton(value=False, descripti…"
      ]
     },
     "metadata": {},
     "output_type": "display_data"
    }
   ],
   "source": [
    "play_botton_widget = ipywidgets.HBox([play_button,back_button,step_widget,forward_button])\n",
    "trained_XY_text_widget = ipywidgets.HBox([trained_X_widget, trained_Y_widget])\n",
    "trained_channel_text_widget = ipywidgets.HBox([trained_CH1_widget, trained_CH2_widget])\n",
    "train_mode_right = ipywidgets.VBox([\n",
    "    train_view_widget,\n",
    "    play_botton_widget, \n",
    "    trained_XY_text_widget,\n",
    "    trained_channel_text_widget,\n",
    "    progress_widget,\n",
    "    ipywidgets.HBox([eval_button])\n",
    "])\n",
    "display(train_mode_right)"
   ]
  },
  {
   "cell_type": "code",
   "execution_count": 10,
   "id": "a97f78fd",
   "metadata": {},
   "outputs": [],
   "source": [
    "eval_button.disabled = False"
   ]
  },
  {
   "cell_type": "code",
   "execution_count": null,
   "id": "46b306c7",
   "metadata": {},
   "outputs": [],
   "source": []
  }
 ],
 "metadata": {
  "kernelspec": {
   "display_name": "Python 3",
   "language": "python",
   "name": "python3"
  },
  "language_info": {
   "codemirror_mode": {
    "name": "ipython",
    "version": 3
   },
   "file_extension": ".py",
   "mimetype": "text/x-python",
   "name": "python",
   "nbconvert_exporter": "python",
   "pygments_lexer": "ipython3",
   "version": "3.6.9"
  }
 },
 "nbformat": 4,
 "nbformat_minor": 5
}

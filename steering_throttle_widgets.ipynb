{
 "cells": [
  {
   "cell_type": "code",
   "execution_count": 1,
   "id": "5900af44",
   "metadata": {},
   "outputs": [],
   "source": [
    "from __future__ import print_function\n",
    "\n",
    "import ipywidgets as widgets\n",
    "from ipywidgets import interact"
   ]
  },
  {
   "cell_type": "code",
   "execution_count": 2,
   "id": "38e667a2",
   "metadata": {},
   "outputs": [],
   "source": [
    "# 导库\n",
    "from jetracer.nvidia_racecar import NvidiaRacecar\n",
    "# 创建实例\n",
    "car = NvidiaRacecar()"
   ]
  },
  {
   "cell_type": "code",
   "execution_count": 3,
   "id": "3fff5a51",
   "metadata": {},
   "outputs": [],
   "source": [
    "car.steering_gain = 0.9\n",
    "car.steering_offset = 0.04\n",
    "car.throttle_gain = 1"
   ]
  },
  {
   "cell_type": "code",
   "execution_count": 4,
   "id": "acf0e9bb",
   "metadata": {},
   "outputs": [],
   "source": [
    "def steering_num(x):\n",
    "    car.steering = x\n",
    "    print(\"steering is {}\".format(x))\n",
    "def throttle_num(x):\n",
    "    car.throttle = x\n",
    "    print(\"throttle is {}\".format(x))"
   ]
  },
  {
   "cell_type": "code",
   "execution_count": 5,
   "id": "ee40c760",
   "metadata": {},
   "outputs": [
    {
     "data": {
      "application/vnd.jupyter.widget-view+json": {
       "model_id": "e6f26082bec44a7eac4401da25ca46d1",
       "version_major": 2,
       "version_minor": 0
      },
      "text/plain": [
       "interactive(children=(FloatSlider(value=0.0, description='steering:', max=1.0, min=-1.0, step=0.05), Output())…"
      ]
     },
     "metadata": {},
     "output_type": "display_data"
    },
    {
     "data": {
      "application/vnd.jupyter.widget-view+json": {
       "model_id": "8ab8f4bcb05646c4be23a777c2177e2d",
       "version_major": 2,
       "version_minor": 0
      },
      "text/plain": [
       "interactive(children=(FloatSlider(value=0.0, description='throttle:', max=1.0, min=-1.0, step=0.05), Output())…"
      ]
     },
     "metadata": {},
     "output_type": "display_data"
    }
   ],
   "source": [
    "interact(steering_num, x=widgets.FloatSlider(value = 0,\n",
    "                       max = 1,\n",
    "                       min = -1,\n",
    "                       step = 0.05,\n",
    "                       orientation = 'horizontal',\n",
    "                       description='steering:',\n",
    "                       readout_format = \".2f\"))\n",
    "interact(throttle_num, x=widgets.FloatSlider(value = 0,\n",
    "                       max = 1,\n",
    "                       min = -1,\n",
    "                       step = 0.05,\n",
    "                       orientation = 'horizontal',\n",
    "                       description='throttle:',\n",
    "                       readout_format = \".2f\"))"
   ]
  },
  {
   "cell_type": "code",
   "execution_count": null,
   "id": "f1c8de2b",
   "metadata": {},
   "outputs": [],
   "source": []
  }
 ],
 "metadata": {
  "kernelspec": {
   "display_name": "Python 3",
   "language": "python",
   "name": "python3"
  },
  "language_info": {
   "codemirror_mode": {
    "name": "ipython",
    "version": 3
   },
   "file_extension": ".py",
   "mimetype": "text/x-python",
   "name": "python",
   "nbconvert_exporter": "python",
   "pygments_lexer": "ipython3",
   "version": "3.6.9"
  }
 },
 "nbformat": 4,
 "nbformat_minor": 5
}